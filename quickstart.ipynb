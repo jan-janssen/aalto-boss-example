{
 "cells": [
  {
   "cell_type": "markdown",
   "metadata": {},
   "source": [
    "# Quickstart"
   ]
  },
  {
   "cell_type": "markdown",
   "metadata": {},
   "source": [
    "We illustrate the basic usage by minimizing the Forrester function\n",
    "f(x) = (6x - 2)<sup>2</sup> sin(12x - 4)  on the interval [0, 1]."
   ]
  },
  {
   "cell_type": "code",
   "execution_count": null,
   "metadata": {
    "lines_to_next_cell": 1
   },
   "outputs": [],
   "source": [
    "import numpy as np\n",
    "from boss.bo.bo_main import BOMain"
   ]
  },
  {
   "cell_type": "markdown",
   "metadata": {},
   "source": [
    "The first step to running BOSS typically consists of defining an objective function and\n",
    "the optimization bounds, where the latter should be specified as a hypercube.\n",
    "For the Forrester problem, we define the function and bounds as follows"
   ]
  },
  {
   "cell_type": "code",
   "execution_count": null,
   "metadata": {
    "lines_to_next_cell": 1
   },
   "outputs": [],
   "source": [
    "def func(X):\n",
    "    x = X[0, 0]\n",
    "    return (6*x-2)**2 * np.sin(12*x - 4)"
   ]
  },
  {
   "cell_type": "code",
   "execution_count": null,
   "metadata": {},
   "outputs": [],
   "source": [
    "bounds = np.array([[0., 1.]])"
   ]
  },
  {
   "cell_type": "markdown",
   "metadata": {},
   "source": [
    "Note that BOSS expects the objective function to take a single 2D numpy array \n",
    "as argument and return a scalar value (this behaviour can be modified).\n",
    "Next, we import BOMain, which will be used to launch and configure the optimization.\n",
    "When creating this object we can supply any number of BOSS *keywords*,\n",
    "these are used to provide essential input information and modify BOSS's behavior.\n",
    "In the following, only a minimal set of keywords are provided for brevity."
   ]
  },
  {
   "cell_type": "code",
   "execution_count": null,
   "metadata": {},
   "outputs": [],
   "source": [
    "bo = BOMain(\n",
    "    func, \n",
    "    bounds,    \n",
    "    yrange=[-1, 1],\n",
    "    kernel='rbf',\n",
    "    initpts=5,\n",
    "    iterpts=10\n",
    ")"
   ]
  },
  {
   "cell_type": "markdown",
   "metadata": {},
   "source": [
    "We are now ready to start the optimization. Once finished, a `BOResults` object\n",
    "that provides easy access to several resulting quantities is returned. In addition, \n",
    "a summary of the optimization and restart data is written to separate files, by default\n",
    "named `boss.out` and `boss.rst`, respectively."
   ]
  },
  {
   "cell_type": "code",
   "execution_count": null,
   "metadata": {},
   "outputs": [],
   "source": [
    "res = bo.run()"
   ]
  },
  {
   "cell_type": "markdown",
   "metadata": {},
   "source": [
    "Since our objective function is analytic and cheap to compute, we have can directly \n",
    "visualize the quality of the GP regression fit and the estimated minimum using the\n",
    "information provided the by the results object."
   ]
  },
  {
   "cell_type": "code",
   "execution_count": null,
   "metadata": {},
   "outputs": [],
   "source": [
    "import matplotlib.pyplot as plt\n",
    "fig, ax = plt.subplots()\n",
    "x = np.linspace(bounds[0, 0], bounds[0, 1], 200)\n",
    "ytrue = [func(np.atleast_2d(xi)) for xi in x]\n",
    "ax.plot(x, ytrue, color='tab:blue', label='True')  # Plot the true function.\n",
    "yfit = res.f(np.atleast_2d(x).T)\n",
    "ax.plot(x, yfit, color='tab:red', ls='--', label='Fit')  # Plot the GP regression fit.\n",
    "# Plot the estimated minimum. Note the use the xmin, and fmin members of the results object.\n",
    "ax.plot(res.xmin, res.fmin, 'ro', label='Minimum')\n",
    "ax.set_xlabel('x')\n",
    "ax.set_ylabel('f(x)')\n",
    "ax.set_title('BO minimization of Forrester function')\n",
    "ax.legend()\n",
    "plt.show()"
   ]
  }
 ],
 "metadata": {
  "jupytext": {
   "cell_metadata_filter": "-all",
   "main_language": "python",
   "notebook_metadata_filter": "-all"
  }
 },
 "nbformat": 4,
 "nbformat_minor": 4
}
